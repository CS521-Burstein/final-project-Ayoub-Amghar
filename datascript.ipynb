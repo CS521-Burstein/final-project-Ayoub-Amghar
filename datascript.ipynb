{
 "cells": [
  {
   "cell_type": "code",
   "execution_count": 5,
   "id": "42a2d59e",
   "metadata": {},
   "outputs": [],
   "source": [
    "import requests\n"
   ]
  },
  {
   "cell_type": "code",
   "execution_count": 6,
   "id": "f3653f29",
   "metadata": {},
   "outputs": [],
   "source": [
    "url =\"https://raw.githubusercontent.com/bursteinalan/Data-Sets/master/Housing/House%20Prediction%20Data.csv\""
   ]
  },
  {
   "cell_type": "code",
   "execution_count": 8,
   "id": "468d9be3",
   "metadata": {},
   "outputs": [],
   "source": [
    "rq = requests.get(url, allow_redirects =True)"
   ]
  },
  {
   "cell_type": "code",
   "execution_count": 16,
   "id": "dd45a342",
   "metadata": {},
   "outputs": [],
   "source": [
    "content = rq.content"
   ]
  },
  {
   "cell_type": "code",
   "execution_count": 17,
   "id": "cc560d90",
   "metadata": {},
   "outputs": [
    {
     "data": {
      "text/plain": [
       "'Id,MSSubClass,MSZoning,LotFrontage,LotArea,Street,Alley,LotShape,LandContour,Utilities,LotConfig,Lan'"
      ]
     },
     "execution_count": 17,
     "metadata": {},
     "output_type": "execute_result"
    }
   ],
   "source": [
    "rq.content.decode(\"utf-8\")[:100]"
   ]
  },
  {
   "cell_type": "code",
   "execution_count": 18,
   "id": "dd8802c8",
   "metadata": {},
   "outputs": [],
   "source": [
    "file = \"t.csv\""
   ]
  },
  {
   "cell_type": "code",
   "execution_count": 15,
   "id": "2be29b2f",
   "metadata": {},
   "outputs": [
    {
     "data": {
      "text/plain": [
       "950547"
      ]
     },
     "execution_count": 15,
     "metadata": {},
     "output_type": "execute_result"
    }
   ],
   "source": [
    "open(file, 'wb').write(content)"
   ]
  },
  {
   "cell_type": "code",
   "execution_count": null,
   "id": "e1258188",
   "metadata": {},
   "outputs": [],
   "source": []
  }
 ],
 "metadata": {
  "kernelspec": {
   "display_name": "Python 3 (ipykernel)",
   "language": "python",
   "name": "python3"
  },
  "language_info": {
   "codemirror_mode": {
    "name": "ipython",
    "version": 3
   },
   "file_extension": ".py",
   "mimetype": "text/x-python",
   "name": "python",
   "nbconvert_exporter": "python",
   "pygments_lexer": "ipython3",
   "version": "3.9.7"
  }
 },
 "nbformat": 4,
 "nbformat_minor": 5
}
